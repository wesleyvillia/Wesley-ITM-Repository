{
 "cells": [
  {
   "cell_type": "markdown",
   "id": "88a599a8",
   "metadata": {},
   "source": [
    "# Assignment: Playing with Function\n",
    "This problem set aims to serve as a stepping stone from basic Python to intermediate Python.\n",
    "\n",
    "## Problem 1\n",
    "\n",
    "## Factorial (1 point)\n",
    "\n",
    "The factorial of a number is the product of that number and all the numbers below it. For example, 5 factorial (denoted 5! in math) is 5 4 3 2 1, which is 120.\n",
    "\n",
    "#### Write a function called problem_1 that takes one positional argument number. The function should return the factorial of number as an integer.\n",
    "\n",
    "Example input/output:\n",
    "\n",
    "problem_1(5) => 120\n",
    "\n",
    "problem_1(10) => 3628800"
   ]
  },
  {
   "cell_type": "code",
   "execution_count": 1,
   "id": "82384e1f",
   "metadata": {},
   "outputs": [
    {
     "data": {
      "text/plain": [
       "1"
      ]
     },
     "execution_count": 1,
     "metadata": {},
     "output_type": "execute_result"
    }
   ],
   "source": [
    "def problem_1(x):\n",
    "    i = 1\n",
    "    for number in range(1, x + 1):\n",
    "        i *= number\n",
    "    return i\n",
    "\n",
    "problem_1(0)"
   ]
  },
  {
   "cell_type": "markdown",
   "id": "0b7cad8c",
   "metadata": {},
   "source": [
    "## Problem 2\n",
    "\n",
    "## Guessing Game (2 points)\n",
    "\n",
    "Recall that we use input() to ask for user input.\n",
    "\n",
    "#### Write a function called problem_2 that takes one positional argument passphrase. The function should ask the user to enter the passphrase with input(). If the user enters the correct passphrase, the function should return the integer 1. If the user enters the wrong passphrase, the function should keep asking them for the passphrase. If the user gets the passphrase wrong 3 times, the function should return the integer 0.\n",
    "\n",
    "Example input/output:\n",
    "\n",
    "Function input:\n",
    "problem_2(\"chums\")\n",
    "Simulated user input:\n",
    "joben\n",
    "chums\n",
    "Output:\n",
    "1\n",
    "\n",
    "Function input:\n",
    "problem_2(\"annika\")\n",
    "Simulated user input:\n",
    "joe\n",
    "earl\n",
    "niks\n",
    "Output:\n",
    "0"
   ]
  },
  {
   "cell_type": "code",
   "execution_count": 2,
   "id": "e01dd7fa",
   "metadata": {},
   "outputs": [
    {
     "name": "stdout",
     "output_type": "stream",
     "text": [
      "matthew\n",
      "lawrence\n",
      "chums\n"
     ]
    },
    {
     "data": {
      "text/plain": [
       "1"
      ]
     },
     "execution_count": 2,
     "metadata": {},
     "output_type": "execute_result"
    }
   ],
   "source": [
    "def problem_2(correct_word):\n",
    "    mistakes = 0\n",
    "    status = 0\n",
    "    \n",
    "    while mistakes < 3:\n",
    "            \n",
    "        if input() == correct_word:\n",
    "            status += 1\n",
    "            break\n",
    "        else:\n",
    "            mistakes += 1\n",
    "    return(status)\n",
    "\n",
    "\n",
    "problem_2(\"chums\")"
   ]
  },
  {
   "cell_type": "markdown",
   "id": "4b198589",
   "metadata": {},
   "source": [
    "## Problem 3\n",
    "\n",
    "## Temperature Converter (3 points)\n",
    "\n",
    "A common beginner's exercise is to write a function that can convert a temperature value from one format, such as Fahrenheit, to another, such as Celsius.\n",
    "\n",
    "In this problem, extend this idea to convert temperatures freely to and from any of the following formats: Celsius, Fahrenheit, and Kelvin.\n",
    "\n",
    "#### Write a function called problem_3 that takes three positional arguments: (float) temp, (string) original_format, (string) new_format. The function should convert temp, which is represented in original_format, to its equivalent value in the new_format.\n",
    "\n",
    "Example input/output:\n",
    "\n",
    "problem_3(0.0, \"Celsius\", \"Fahrenheit\") => 32.0\n",
    "\n",
    "problem_3(500.0, \"Kelvin\", \"Fahrenheit\") => 440.33\n",
    "\n",
    "problem_3(273.0, \"Kelvin\", \"Celsius\") => 0.0\n",
    "\n",
    "For your convenience:\n",
    "1. The accuracy of your float outputs will only be evaluated to within 2 decimal places. (In other words: don't worry too much about getting the calculation exactly right.)"
   ]
  },
  {
   "cell_type": "code",
   "execution_count": 3,
   "id": "7e116678",
   "metadata": {},
   "outputs": [
    {
     "data": {
      "text/plain": [
       "32.0"
      ]
     },
     "execution_count": 3,
     "metadata": {},
     "output_type": "execute_result"
    }
   ],
   "source": [
    "def problem_3 (temp, original_format, new_format):\n",
    "   \n",
    "    if original_format == \"Celsius\":\n",
    "        if new_format == \"Fahrenheit\":\n",
    "            answer = ((9/5) * temp) + 32\n",
    "            return (answer)\n",
    "        elif new_format == \"Kelvin\":\n",
    "            answer = temp + 273.15\n",
    "            return (answer)\n",
    "        else:\n",
    "            print(\"Wrong format\")\n",
    "            \n",
    "    elif original_format == \"Fahrenheit\":\n",
    "        if new_format == \"Celsius\":\n",
    "            answer = (5/9)*(temp - 32)\n",
    "            return (answer)\n",
    "        elif new_format == \"Kelvin\":\n",
    "            answer = ((5/9)*(temp - 32)) + 273.15\n",
    "            return (answer)\n",
    "        else:\n",
    "            print(\"Wrong format\")\n",
    "        \n",
    "    elif original_format == \"Kelvin\":\n",
    "        if new_format == \"Celsius\":\n",
    "            answer = temp - 273.15\n",
    "            return (answer)\n",
    "        elif new_format == \"Fahrenheit\":\n",
    "            answer = ((temp - 273.15) * (9/5)) + 32\n",
    "            return (answer)\n",
    "        \n",
    "    else:\n",
    "        print(\"Wrong format\")\n",
    "        \n",
    "problem_3 (273.15, \"Kelvin\", \"Fahrenheit\")"
   ]
  },
  {
   "cell_type": "markdown",
   "id": "7f356a6e",
   "metadata": {},
   "source": [
    "## Problem 4\n",
    "\n",
    "## Exact Change (4 points)\n",
    "\n",
    "Part of a cashier's job is to give exact change to customers. It can be difficult to mentally tally how many coins of each type (i.e., 1 peso, 25 centavos, 10 centavos, etc.) to give to a customer.\n",
    "\n",
    "#### Write a function called problem_4 that takes 1 positional argument amount in centavos. The function should return a string that describes the appropriate amounts of each type of coin to give to the customer. The string should be formatted as follows:\n",
    "\n",
    "\"1P:{num}/25C:{num}/10C:{num}/5C:{num}/1C:{num}\"\n",
    "\n",
    "#### Use the fewest number of total coins possible.\n",
    "\n",
    "Example input/output:\n",
    "\n",
    "problem_4(105) => \"1P:1/25C:0/10C:0/5C:1/1C:0\"\n",
    "\n",
    "problem_4(69) => \"1P:0/25C:2/10C:1/5C:1/1C:4\"\n",
    "\n",
    "\n"
   ]
  },
  {
   "cell_type": "code",
   "execution_count": 4,
   "id": "1d268c64",
   "metadata": {},
   "outputs": [
    {
     "data": {
      "text/plain": [
       "'1P:1/25C:3/10C:1/5C:1/1C:2'"
      ]
     },
     "execution_count": 4,
     "metadata": {},
     "output_type": "execute_result"
    }
   ],
   "source": [
    "def problem_4(total):\n",
    "    number_of_1P = 0\n",
    "    number_of_25C = 0\n",
    "    number_of_10C = 0\n",
    "    number_of_5C = 0\n",
    "    number_of_1C = 0\n",
    "    coin_count = 0\n",
    "    \n",
    "    while total >= 100:\n",
    "        total -= 100\n",
    "        coin_count += 1\n",
    "        number_of_1P += 1\n",
    "    while total >= 25:\n",
    "        total -= 25\n",
    "        coin_count += 1\n",
    "        number_of_25C += 1\n",
    "    while total >= 10:\n",
    "        total -= 10\n",
    "        coin_count += 1\n",
    "        number_of_10C += 1\n",
    "    while total >= 5:\n",
    "        total -= 5\n",
    "        coin_count += 1\n",
    "        number_of_5C += 1\n",
    "    while total >= 1:\n",
    "        total -= 1\n",
    "        coin_count += 1\n",
    "        number_of_1C += 1\n",
    "    return(f\"1P:{number_of_1P}/25C:{number_of_25C}/10C:{number_of_10C}/5C:{number_of_5C}/1C:{number_of_1C}\")\n",
    "\n",
    "problem_4(192)"
   ]
  },
  {
   "cell_type": "markdown",
   "id": "32a3bdf4",
   "metadata": {},
   "source": [
    "## Problem 5\n",
    "\n",
    "## Invert Capitalization (3 points)\n",
    "\n",
    "#### Write a function called problem_5 that takes 1 positional argument (string) message. The function should return a string whose uppercase letters are now lowercase and whose lowercase letters are now uppercase. Spaces should be left alone.\n",
    "\n",
    "Example input/output:\n",
    "\n",
    "problem_5(\"Test Me\") => \"tEST mE\"\n",
    "\n",
    "problem_5(\"asSiGnmENt\") => \"ASsIgNMenT\"\n",
    "\n",
    "For your convenience:\n",
    "\n",
    "1. The message will only ever consist of spaces, lowercase letters, and uppercase letters.\n",
    "\n",
    "Hint: Research on ord() and chr()."
   ]
  },
  {
   "cell_type": "code",
   "execution_count": 5,
   "id": "a49162b9",
   "metadata": {},
   "outputs": [
    {
     "data": {
      "text/plain": [
       "'ASsIgNMenT'"
      ]
     },
     "execution_count": 5,
     "metadata": {},
     "output_type": "execute_result"
    }
   ],
   "source": [
    "def problem_5(string):\n",
    "    new_string = \"\"\n",
    "    \n",
    "    for character in string:\n",
    "        if ord(character) == 32: #value when character is a space\n",
    "            new_string += \" \"\n",
    "        elif ord(character) <= 90: #for uppercase\n",
    "            new_string += (chr(ord(character) + 32))\n",
    "        else: # for lower case\n",
    "            new_string += (chr(ord(character) - 32))\n",
    "    return (new_string)\n",
    "    \n",
    "problem_5(\"asSiGnmENt\")"
   ]
  }
 ],
 "metadata": {
  "kernelspec": {
   "display_name": "Python 3",
   "language": "python",
   "name": "python3"
  },
  "language_info": {
   "codemirror_mode": {
    "name": "ipython",
    "version": 3
   },
   "file_extension": ".py",
   "mimetype": "text/x-python",
   "name": "python",
   "nbconvert_exporter": "python",
   "pygments_lexer": "ipython3",
   "version": "3.8.8"
  }
 },
 "nbformat": 4,
 "nbformat_minor": 5
}
